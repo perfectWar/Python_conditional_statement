{
 "cells": [
  {
   "cell_type": "code",
   "execution_count": 1,
   "id": "7be5dd95",
   "metadata": {},
   "outputs": [
    {
     "name": "stdout",
     "output_type": "stream",
     "text": [
      "Enter a number : 2\n",
      "Enter the name of folder : Mitali\n",
      "Folder created Mitali\n"
     ]
    }
   ],
   "source": [
    "\"\"\"if a user has given 1 print our system date \n",
    "if a user has given 2 make a folder on desktop and name will given by user \n",
    "if a user has given 3 make a file on desktop\n",
    "if 4 shutdown\"\"\"\n",
    "\n",
    "import datetime #for printing date \n",
    "import os\n",
    "num = int(input(\"Enter a number : \")) \n",
    "if num == 1:\n",
    "    today = datetime.date.today() #date \n",
    "    print(today)\n",
    "elif num==2:\n",
    "    desk_path = \"C:\\\\Users\\\\raths\\\\OneDrive\\\\AppData\\\\Desktop\" #desktop path \n",
    "    folder_name = input(\"Enter the name of folder : \") # taking folder name from user \n",
    "    new_folder_path = os.path.join(desk_path,folder_name) # path of the folder \n",
    "    if not os.path.exists(new_folder_path): # checking of file exist or not if not create one \n",
    "        os.makedirs(new_folder_path)\n",
    "        print(f\"Folder created {folder_name}\")\n",
    "    else:\n",
    "        print(f\"Folder already exists \")\n",
    "elif num ==3:\n",
    "    desk_path = \"C:\\\\Users\\\\raths\\\\OneDrive\\\\AppData\\\\Desktop\" #desktop path\n",
    "    file_name = \"new_file.txt\" #file name \n",
    "    file_path = os.path.join(desk_path,file_name) # setting the file path\n",
    "    \n",
    "    if not os.path.exists(file_path): # checking existence of file if not exist creat one\n",
    "        with open(file_path, 'w') as file:\n",
    "            file.write(\"File is created\")\n",
    "        print(\"File created\")\n",
    "    else:\n",
    "        print(\"File already exists\")\n",
    "        \n",
    "elif num ==4: #shutting down the system\n",
    "    os.system(\"shutdown /s /t 1\")"
   ]
  },
  {
   "cell_type": "code",
   "execution_count": 3,
   "id": "8de7a0ea",
   "metadata": {},
   "outputs": [
    {
     "name": "stdout",
     "output_type": "stream",
     "text": [
      "Enter the units : 100\n",
      "The total price is 1600 on units 100\n"
     ]
    }
   ],
   "source": [
    "'''user input on number of unit in integer\n",
    "- for the starting 10 unit price is 50 rs each\n",
    "- for the next 20 unit price is 20 rs each\n",
    "- for the rest of unit price will be 10rs\n",
    "calculate the total price\n",
    "Eg: 100 units \n",
    "10*50 = 500 (100-10)\n",
    "20 * 20 = 400 (90-20)\n",
    "70 * 10 = 700 \n",
    "total = 500 + 400 + 700 = 1600 '''\n",
    "\n",
    "units = int(input(\"Enter the units : \")) #input of number (unit)\n",
    "unit = units \n",
    "price = 0\n",
    "flag = False \n",
    "if units > 10: # condition for greater than 10\n",
    "    price += 10*50\n",
    "    units -= 10\n",
    "    flag = True\n",
    "else: # less than 10 and print the total price\n",
    "    price += units * 50\n",
    "    print(f\"The total price is {price} on units {unit}\")\n",
    "    flag = False\n",
    "if units > 20: # condition for greater than 20 \n",
    "    price += 20 * 20 \n",
    "    units -= 20\n",
    "    flag = True\n",
    "else: # less than 20 and print the total price\n",
    "    price += units * 20\n",
    "    print(f\"The total price is {price} on units {unit}\")\n",
    "    flag = False\n",
    "if flag: #remaining units \n",
    "    price += units * 10\n",
    "    print(f\"The total price is {price} on units {unit}\")"
   ]
  },
  {
   "cell_type": "code",
   "execution_count": 4,
   "id": "ecb8a3cf",
   "metadata": {},
   "outputs": [
    {
     "name": "stdout",
     "output_type": "stream",
     "text": [
      "Enter 3 lengths of 3 sides of triangle : 12 3 4\n",
      "Triangle cannot be formed\n"
     ]
    }
   ],
   "source": [
    "'''take 3 number as input from a user as 3 side of a triangle\n",
    "and check whether it will create a triagle or not'''\n",
    "\n",
    "# using  triangle inequality theorem which says the sum of 2 side of a traiangle must be greater than the third side \n",
    "num = list(map(int,input(\"Enter 3 lengths of 3 sides of triangle : \").split()))  # creating a list of input number with space separated \n",
    "if (num[0]+num[1] > num[2]) and (num[1] + num[2] > num[0]) and (num[0] + num[2] > num[1]): # condition for triangle inequality\n",
    "    print(\"Triangle can be formed\")\n",
    "else:\n",
    "    print(\"Triangle cannot be formed\")"
   ]
  },
  {
   "cell_type": "code",
   "execution_count": null,
   "id": "caabd8c5",
   "metadata": {},
   "outputs": [],
   "source": [
    "''' Take two number from the user and check whether both the number are divisble\n",
    "by 6\n",
    "( divisibility rule say it should be divided by 2 and 3)'''\n",
    "\n",
    "num = list(map(int,input(\"Enter two numbers : \").split())) # creating a list of input number with space separated \n",
    "if (num[0]%2==0 and num[0]%3 ==0) and (num[1]%2==0 and num[1]%3==0): # condition checking of divisible by 6 \n",
    "    print(f\"The number {num} is divisible by 6\")\n",
    "else:\n",
    "    print(f\"At least one of them {num} is not divisible by 6\")"
   ]
  }
 ],
 "metadata": {
  "kernelspec": {
   "display_name": "Python 3 (ipykernel)",
   "language": "python",
   "name": "python3"
  },
  "language_info": {
   "codemirror_mode": {
    "name": "ipython",
    "version": 3
   },
   "file_extension": ".py",
   "mimetype": "text/x-python",
   "name": "python",
   "nbconvert_exporter": "python",
   "pygments_lexer": "ipython3",
   "version": "3.10.9"
  }
 },
 "nbformat": 4,
 "nbformat_minor": 5
}
